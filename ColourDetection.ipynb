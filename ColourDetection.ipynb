{
  "nbformat": 4,
  "nbformat_minor": 0,
  "metadata": {
    "colab": {
      "name": "ColourDetection.ipynb",
      "provenance": [],
      "collapsed_sections": []
    },
    "kernelspec": {
      "name": "python3",
      "display_name": "Python 3"
    },
    "language_info": {
      "name": "python"
    },
    "accelerator": "GPU"
  },
  "cells": [
    {
      "cell_type": "markdown",
      "metadata": {
        "id": "s-bbuAMmq5EA"
      },
      "source": [
        "# Colour Detection using Kmeans Clustering and OpenCV"
      ]
    },
    {
      "cell_type": "markdown",
      "metadata": {
        "id": "JVW43-lYtdV-"
      },
      "source": [
        "Importing libraries"
      ]
    },
    {
      "cell_type": "code",
      "metadata": {
        "id": "-dzDmAa-zcLb"
      },
      "source": [
        "#Importing required libraries\n",
        "from sklearn.cluster import KMeans\n",
        "import matplotlib.pyplot as plt\n",
        "import numpy as np\n",
        "import cv2\n",
        "from collections import Counter\n",
        "from skimage.color import rgb2lab, deltaE_cie76\n",
        "import os"
      ],
      "execution_count": 3,
      "outputs": []
    },
    {
      "cell_type": "markdown",
      "metadata": {
        "id": "pun2VhGXtmKv"
      },
      "source": [
        "The sample image"
      ]
    },
    {
      "cell_type": "code",
      "metadata": {
        "id": "k5193yowr26l"
      },
      "source": [
        "image = cv2.imread('Balls.png')\n",
        "image = cv2.cvtColor(image, cv2.COLOR_BGR2RGB)\n",
        "image = cv2.resize(image, (600, 370))\n",
        "print(\"The type of this input is {}\".format(type(image)))\n",
        "print(\"Shape: {}\".format(image.shape))\n",
        "\n",
        "plt.figure(figsize=(10,10))\n",
        "plt.subplot(1,3,1)\n",
        "plt.title('Image')\n",
        "plt.imshow(image)\n",
        "\n",
        "plt.subplot(1,3,2)\n",
        "plt.title('Grayscale image')\n",
        "gray_image = cv2.cvtColor(image, cv2.COLOR_BGR2GRAY)\n",
        "plt.imshow(gray_image, cmap='gray')"
      ],
      "execution_count": null,
      "outputs": []
    },
    {
      "cell_type": "markdown",
      "metadata": {
        "id": "SW7q1YOKtv81"
      },
      "source": [
        "Function for:\n",
        "\n",
        "1) Converting RGB values to HEX values"
      ]
    },
    {
      "cell_type": "code",
      "metadata": {
        "id": "QhFInicQtOoP"
      },
      "source": [
        "def RGB2HEX(color):\n",
        "    return \"#{:02x}{:02x}{:02x}\".format(int(color[0]), int(color[1]), int(color[2]))"
      ],
      "execution_count": 16,
      "outputs": []
    },
    {
      "cell_type": "markdown",
      "metadata": {
        "id": "zL3Da9CEv37x"
      },
      "source": [
        "2) Reading an image and converting from BGR format to RGB format"
      ]
    },
    {
      "cell_type": "code",
      "metadata": {
        "id": "jYpEtYiyv27s"
      },
      "source": [
        "def get_image(image_path):\n",
        "    image = cv2.imread(image_path)\n",
        "    image = cv2.cvtColor(image, cv2.COLOR_BGR2RGB)\n",
        "    return image"
      ],
      "execution_count": null,
      "outputs": []
    },
    {
      "cell_type": "markdown",
      "metadata": {
        "id": "RbosbaSBuirJ"
      },
      "source": [
        "3) Detecting colors in the above image based on K-means Clustering"
      ]
    },
    {
      "cell_type": "code",
      "metadata": {
        "id": "Qx5QM05Ut2y-"
      },
      "source": [
        "def get_colors(image, number_of_colors, show_chart):\n",
        "    \n",
        "    modified_image = cv2.resize(image, (600, 370), interpolation = cv2.INTER_AREA)\n",
        "    modified_image = modified_image.reshape(modified_image.shape[0]*modified_image.shape[1], 3)\n",
        "    \n",
        "    clf = KMeans(n_clusters = number_of_colors)\n",
        "    labels = clf.fit_predict(modified_image)\n",
        "    \n",
        "    counts = Counter(labels)\n",
        "    # sort to ensure correct color percentage\n",
        "    counts = dict(sorted(counts.items()))\n",
        "    \n",
        "    center_colors = clf.cluster_centers_\n",
        "    # We get ordered colors by iterating through the keys\n",
        "    ordered_colors = [center_colors[i] for i in counts.keys()]\n",
        "    hex_colors = [RGB2HEX(ordered_colors[i]) for i in counts.keys()]\n",
        "    rgb_colors = [ordered_colors[i] for i in counts.keys()]\n",
        "\n",
        "    if (show_chart):\n",
        "        plt.figure(figsize = (8, 6))\n",
        "        plt.pie(counts.values(), labels = hex_colors, colors = hex_colors)\n",
        "    \n",
        "    return rgb_colors"
      ],
      "execution_count": 19,
      "outputs": []
    },
    {
      "cell_type": "markdown",
      "metadata": {
        "id": "6IC5BBayvgKX"
      },
      "source": [
        "Colors detected labelled with HEX values "
      ]
    },
    {
      "cell_type": "code",
      "metadata": {
        "id": "udhVZdCat9SG"
      },
      "source": [
        "get_colors(get_image('Balls.png'), 8, True)"
      ],
      "execution_count": null,
      "outputs": []
    },
    {
      "cell_type": "markdown",
      "metadata": {
        "id": "vs6o-e-RwoaN"
      },
      "source": [
        "Accessing test images \n",
        "\n",
        "Making a dictionary of colors and R, G, B values"
      ]
    },
    {
      "cell_type": "code",
      "metadata": {
        "id": "TPISYL_ruWF_"
      },
      "source": [
        "Folder = '/content/Sample_images'\n",
        "images = []\n",
        "for file in os.listdir(Folder):\n",
        "    if not file.startswith('.'):\n",
        "        images.append(get_image(os.path.join(Folder, file)))\n",
        "\n",
        "colors = {\n",
        "    'Green':[0, 200, 0],\n",
        "    'Blue':[0, 0, 200],\n",
        "    'Red':[200, 0, 0],\n",
        "    'Yellow':[255, 255, 0],\n",
        "    'Cyan':[0, 255, 255],\n",
        "    'Magenta':[128, 0, 128] \n",
        "}"
      ],
      "execution_count": 72,
      "outputs": []
    },
    {
      "cell_type": "markdown",
      "metadata": {
        "id": "egWf0OFPxxra"
      },
      "source": [
        "Test images"
      ]
    },
    {
      "cell_type": "code",
      "metadata": {
        "id": "-bX-lyOeuiG1"
      },
      "source": [
        "plt.figure(figsize=(20, 10))\n",
        "for i in range(len(images)):\n",
        "    plt.subplot(1, len(images), i+1)\n",
        "    plt.imshow(images[i])"
      ],
      "execution_count": null,
      "outputs": []
    },
    {
      "cell_type": "markdown",
      "metadata": {
        "id": "2lHSQj9Vx2Kj"
      },
      "source": [
        "Detecting colour from test images"
      ]
    },
    {
      "cell_type": "code",
      "metadata": {
        "id": "ccLW1xU9umXL"
      },
      "source": [
        "def match_image_by_color(image, color, threshold = 60, number_of_colors = 10): \n",
        "    \n",
        "    image_colors = get_colors(image, number_of_colors, False)\n",
        "    selected_color = rgb2lab(np.uint8(np.asarray([[color]])))\n",
        "\n",
        "    select_image = False\n",
        "    for i in range(number_of_colors):\n",
        "        curr_color = rgb2lab(np.uint8(np.asarray([[image_colors[i]]])))\n",
        "        diff = deltaE_cie76(selected_color, curr_color)\n",
        "        if (diff < threshold):\n",
        "            select_image = True\n",
        "    \n",
        "    return select_image"
      ],
      "execution_count": 74,
      "outputs": []
    },
    {
      "cell_type": "code",
      "metadata": {
        "id": "IF-BSuDSupoV"
      },
      "source": [
        "def show_selected_images(images, c_name, color, threshold, colors_to_match):\n",
        "    index = 1\n",
        "    \n",
        "    for i in range(len(images)):\n",
        "        selected = match_image_by_color(images[i], color, threshold, colors_to_match)\n",
        "\n",
        "        if (selected):\n",
        "            plt.subplot(1, 5, index)\n",
        "            plt.title(c_name + ' color detected in this image:')\n",
        "            plt.imshow(images[i])\n",
        "            index += 1"
      ],
      "execution_count": 75,
      "outputs": []
    },
    {
      "cell_type": "code",
      "metadata": {
        "id": "oAeOwryXUz6c"
      },
      "source": [
        "# Detect colors\n",
        "for color in colors:\n",
        "  plt.figure(figsize = (20, 20))\n",
        "  show_selected_images(images, color, colors[color], 60, 5)  "
      ],
      "execution_count": null,
      "outputs": []
    }
  ]
}